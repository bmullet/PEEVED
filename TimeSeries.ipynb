{
 "cells": [
  {
   "cell_type": "markdown",
   "metadata": {},
   "source": [
    "# CNN for time series prediction"
   ]
  },
  {
   "cell_type": "code",
   "execution_count": 1,
   "metadata": {},
   "outputs": [
    {
     "name": "stderr",
     "output_type": "stream",
     "text": [
      "Using TensorFlow backend.\n"
     ]
    }
   ],
   "source": [
    "# source: https://machinelearningmastery.com/how-to-develop-convolutional-neural-network-models-for-time-series-forecasting/\n",
    "\n",
    "# multivariate cnn example\n",
    "from numpy import array\n",
    "from numpy import hstack\n",
    "from math import floor\n",
    "from keras.models import Sequential\n",
    "from keras.layers import Dense\n",
    "from keras.layers import Flatten\n",
    "from keras.layers.convolutional import Conv1D\n",
    "from keras.layers.convolutional import MaxPooling1D\n",
    "from sklearn.preprocessing import StandardScaler\n",
    "from util import load_hypocenters, PuuOo, load_puuoo_eqs, GetTimeToEruption, GetTimeSinceEruption, GetEQRates\n",
    "import numpy as np\n",
    "import random\n"
   ]
  },
  {
   "cell_type": "code",
   "execution_count": 2,
   "metadata": {},
   "outputs": [],
   "source": [
    "# get dataset\n",
    "# split a multivariate sequence into samples\n",
    "def split_sequences(x_pre, y_pre, n_steps):\n",
    "    X, y = list(), list()\n",
    "    for i in range(len(x_pre)):\n",
    "        # find the end of this pattern\n",
    "        end_ix = i + n_steps\n",
    "        # check if we are beyond the dataset\n",
    "        if end_ix > len(x_pre):\n",
    "            break\n",
    "        # gather input and output parts of the pattern\n",
    "        seq_x, seq_y = x_pre[i:end_ix], y_pre[end_ix-1]\n",
    "        X.append(seq_x)\n",
    "        y.append(seq_y)\n",
    "    return array(X), array(y)"
   ]
  },
  {
   "cell_type": "code",
   "execution_count": 3,
   "metadata": {},
   "outputs": [],
   "source": [
    "class BaseEarthquakes():\n",
    "    \"\"\"Earthquake and Eruption Dataset\"\"\"\n",
    "\n",
    "    def __init__(self, root, eruption_csv_path, eq_csv_path, split):\n",
    "        self.root  = root\n",
    "        self.split = split\n",
    "        self.eruption_csv_path = eruption_csv_path\n",
    "        self.eq_csv_path = eq_csv_path\n",
    "        self._get_east_rift_zone()\n",
    "        self._set_x()\n",
    "        self._normalize()\n",
    "        self._add_time()\n",
    "        \n",
    "        self._split_data()\n",
    "\n",
    "    def _add_time(self):\n",
    "        self.max_time = np.max(self.time_since_beginning)\n",
    "        self.min_time = np.min(self.time_since_beginning)\n",
    "       \n",
    "        self.time_since_beginning = (self.time_since_beginning - self.min_time)/(self.max_time - self.min_time)\n",
    "        \n",
    "        self.x = np.hstack((self.time_since_beginning[:, np.newaxis], self.x))\n",
    "        \n",
    "    def _set_x(self):\n",
    "        \n",
    "        self.time_since_beginning = np.array([(time - self.time[0]).total_seconds() for time in self.time])\n",
    "        \n",
    "        self.x = np.array([self.lat, self.lon, \\\n",
    "                            self.depth, self.mag]).T\n",
    "\n",
    "        \n",
    "    def _get_east_rift_zone(self): \n",
    "        self.p = PuuOo(self.eruption_csv_path)\n",
    "        time, lat, lon, depth, mag = load_puuoo_eqs(self.eq_csv_path)\n",
    "        \n",
    "        latpts = np.array([19.3,19.5])\n",
    "        lonpts = np.array([-155.5,-155])\n",
    "        A      = np.array([lonpts,[1,1]]).T\n",
    "        line   = np.linalg.solve(A, latpts)   \n",
    "        croplocs = lat - line[0]*lon - line[1]        \n",
    "        idx = [j for j in range(len(lon)) if croplocs[j]<=0]\n",
    "        \n",
    "        self.time = np.array(time)[idx]\n",
    "        self.lat = np.array(lat)[idx]\n",
    "        self.lon = np.array(lon)[idx]\n",
    "        self.depth = np.array(depth)[idx]\n",
    "        self.mag = np.array(mag)[idx]\n",
    "        \n",
    "    def _normalize(self):\n",
    "        scaler = StandardScaler()\n",
    "        scaler.fit(self.x)\n",
    "        self.x = scaler.transform(self.x)\n",
    "    \n",
    "    def _split_data(self):\n",
    "        # Create data list via train, val split\n",
    "\n",
    "        if self.split in [\"train\", \"val\", \"test\"]:\n",
    "          \n",
    "            percent_train = 0.6 \n",
    "            percent_val   = 0.1 # Percent test is what is left\n",
    "            \n",
    "            # Make additional array for erupting or not\n",
    "            erupt = np.array([self.p.was_erupting(t) for t in self.time])\n",
    "            \n",
    "            num_erupt = np.sum(erupt)\n",
    "            num_train = floor(percent_train * num_erupt)\n",
    "            num_val   = floor(percent_val   * num_erupt)\n",
    "            num_test  = num_erupt - num_train - num_val\n",
    "            \n",
    "            indices, = np.nonzero(erupt)\n",
    "            idx_train = indices[num_train]\n",
    "            idx_val   = indices[num_train + num_val]\n",
    "            \n",
    "            if self.split == \"train\":\n",
    "                idx_start = 0\n",
    "                idx_end   = idx_train\n",
    "            elif self.split == \"val\":\n",
    "                idx_start = idx_train\n",
    "                idx_end   = idx_val\n",
    "            elif self.split == \"test\":\n",
    "                idx_start = idx_val\n",
    "                idx_end   = len(erupt)\n",
    "            \n",
    "            # Split data\n",
    "            self.time = self.time[idx_start : idx_end]\n",
    "            self.x = self.x[idx_start : idx_end]\n",
    "            self.y = erupt[idx_start : idx_end]\n",
    "                    \n",
    "        else:\n",
    "            raise ValueError(\"Invalid split name: {}\".format(self.split))\n",
    "\n",
    "    def _get_label_weights(self):\n",
    "        # Get weights for a given dataset\n",
    "        num_erupt = np.sum(self.y)\n",
    "        total = len(self.y)\n",
    "        weights = [1, total/num_erupt]\n",
    "\n",
    "        return weights\n",
    "    \n",
    "    def __getitem__(self, index):\n",
    "        raise NotImplementedError\n",
    "        \n",
    "    def __len__(self):\n",
    "        return len(self.erupt)"
   ]
  },
  {
   "cell_type": "code",
   "execution_count": 4,
   "metadata": {},
   "outputs": [],
   "source": [
    "eruption_csv_path = 'PuuOo.csv'\n",
    "eq_csv_path       = 'puuoo_earthquakes.csv' \n",
    "\n",
    "dataset_train = BaseEarthquakes(\n",
    "        root=\".\",\n",
    "        eruption_csv_path=eruption_csv_path, \n",
    "        eq_csv_path=eq_csv_path,    \n",
    "        split=\"train\",\n",
    "    )\n",
    "\n",
    "dataset_val = BaseEarthquakes(\n",
    "        root=\".\",\n",
    "        eruption_csv_path=eruption_csv_path, \n",
    "        eq_csv_path=eq_csv_path,    \n",
    "        split=\"val\",\n",
    "    )\n",
    "\n",
    "dataset_test = BaseEarthquakes(\n",
    "        root=\".\",\n",
    "        eruption_csv_path=eruption_csv_path, \n",
    "        eq_csv_path=eq_csv_path,    \n",
    "        split=\"test\",\n",
    "    )"
   ]
  },
  {
   "cell_type": "code",
   "execution_count": 5,
   "metadata": {},
   "outputs": [
    {
     "name": "stdout",
     "output_type": "stream",
     "text": [
      "506 84 254\n",
      "2771 739 254\n"
     ]
    }
   ],
   "source": [
    "print(np.sum(dataset_train.y), np.sum(dataset_val.y), np.sum(dataset_test.y))\n",
    "print(len(dataset_train.y), len(dataset_val.y), len(dataset_test.y))\n"
   ]
  },
  {
   "cell_type": "code",
   "execution_count": 6,
   "metadata": {},
   "outputs": [],
   "source": [
    "import matplotlib.pyplot as plt\n"
   ]
  },
  {
   "cell_type": "code",
   "execution_count": 7,
   "metadata": {},
   "outputs": [],
   "source": [
    "class TimeDS(BaseEarthquakes):\n",
    "    \n",
    "    def __init__(self, **kwargs):\n",
    "        super(TimeDS, self).__init__(**kwargs)\n",
    "        self.derive_extra_features()\n",
    "    \n",
    "    def derive_extra_features(self):\n",
    "        self.SecsToEruption = GetTimeToEruption(self.time, self.p)\n",
    "        #self.SecsSinceEruption = GetTimeSinceEruption(self.time, self.p)\n",
    "        #self.EQsLastDay, self.EQsLastWeek, self.EQsLastMonth = GetEQRates(self.time)\n",
    "        #self.x = np.hstack((self.x, self.EQsLastMonth[:,np.newaxis]))\n",
    "        self.y = self.SecsToEruption.reshape((-1,1))\n",
    "        self.y = self.y / self.max_time * 10\n",
    "        \n",
    "    def __getitem__(self, index):\n",
    "     \n",
    "        return self.x[index], self.y[index]"
   ]
  },
  {
   "cell_type": "code",
   "execution_count": 8,
   "metadata": {},
   "outputs": [],
   "source": [
    "dataset_train = TimeDS(\n",
    "        root=\".\",\n",
    "        eruption_csv_path=eruption_csv_path, \n",
    "        eq_csv_path=eq_csv_path,    \n",
    "        split=\"train\",\n",
    "    )\n",
    "dataset_val = TimeDS(\n",
    "        root=\".\",\n",
    "        eruption_csv_path=eruption_csv_path, \n",
    "        eq_csv_path=eq_csv_path,    \n",
    "        split=\"val\",\n",
    "    )\n",
    "dataset_test = TimeDS(\n",
    "        root=\".\",\n",
    "        eruption_csv_path=eruption_csv_path, \n",
    "        eq_csv_path=eq_csv_path,    \n",
    "        split=\"test\",\n",
    "    )\n"
   ]
  },
  {
   "cell_type": "code",
   "execution_count": 9,
   "metadata": {},
   "outputs": [
    {
     "data": {
      "text/plain": [
       "array([[0.01360989],\n",
       "       [0.01349239],\n",
       "       [0.01345822],\n",
       "       ...,\n",
       "       [0.        ],\n",
       "       [0.        ],\n",
       "       [0.        ]])"
      ]
     },
     "execution_count": 9,
     "metadata": {},
     "output_type": "execute_result"
    }
   ],
   "source": [
    "dataset_train.y"
   ]
  },
  {
   "cell_type": "code",
   "execution_count": 10,
   "metadata": {},
   "outputs": [
    {
     "data": {
      "text/plain": [
       "[<matplotlib.lines.Line2D at 0x1a3aa670f0>]"
      ]
     },
     "execution_count": 10,
     "metadata": {},
     "output_type": "execute_result"
    },
    {
     "data": {
      "image/png": "[encoded data removed]",
      "text/plain": [
       "<Figure size 432x288 with 1 Axes>"
      ]
     },
     "metadata": {
      "needs_background": "light"
     },
     "output_type": "display_data"
    }
   ],
   "source": [
    "plt.plot(dataset_train.y)\n",
    "plt.plot(dataset_val.y)"
   ]
  },
  {
   "cell_type": "code",
   "execution_count": 11,
   "metadata": {},
   "outputs": [
    {
     "data": {
      "text/plain": [
       "[<matplotlib.lines.Line2D at 0x18394a7ba8>]"
      ]
     },
     "execution_count": 11,
     "metadata": {},
     "output_type": "execute_result"
    },
    {
     "data": {
      "image/png": "[encoded data removed]",
      "text/plain": [
       "<Figure size 432x288 with 1 Axes>"
      ]
     },
     "metadata": {
      "needs_background": "light"
     },
     "output_type": "display_data"
    }
   ],
   "source": [
    "plt.plot(dataset_val.y)"
   ]
  },
  {
   "cell_type": "code",
   "execution_count": 12,
   "metadata": {},
   "outputs": [
    {
     "data": {
      "text/plain": [
       "[<matplotlib.lines.Line2D at 0x1a3be3acf8>]"
      ]
     },
     "execution_count": 12,
     "metadata": {},
     "output_type": "execute_result"
    },
    {
     "data": {
      "image/png": "[encoded data removed]",
      "text/plain": [
       "<Figure size 432x288 with 1 Axes>"
      ]
     },
     "metadata": {
      "needs_background": "light"
     },
     "output_type": "display_data"
    }
   ],
   "source": [
    "plt.plot(dataset_test.x[:,0])"
   ]
  },
  {
   "cell_type": "code",
   "execution_count": 13,
   "metadata": {},
   "outputs": [],
   "source": [
    "def get_time_before_event(X):\n",
    "    for i in range(X.shape[0]):\n",
    "        X[i,:,0] = X[i,:,0] - X[i,-1,0]\n",
    "    return X\n",
    "    \n",
    "    \n",
    "n_steps = 20\n",
    "X,Y = split_sequences(dataset_train.x, dataset_train.y, n_steps)\n",
    "X = get_time_before_event(X)"
   ]
  },
  {
   "cell_type": "code",
   "execution_count": 14,
   "metadata": {},
   "outputs": [
    {
     "data": {
      "text/plain": [
       "(2752, 20, 5)"
      ]
     },
     "execution_count": 14,
     "metadata": {},
     "output_type": "execute_result"
    }
   ],
   "source": [
    "X.shape"
   ]
  },
  {
   "cell_type": "markdown",
   "metadata": {},
   "source": [
    "## Build new model"
   ]
  },
  {
   "cell_type": "code",
   "execution_count": 15,
   "metadata": {},
   "outputs": [
    {
     "name": "stdout",
     "output_type": "stream",
     "text": [
      "WARNING:tensorflow:From /Users/ben/anaconda3/envs/cs229/lib/python3.6/site-packages/keras/backend/tensorflow_backend.py:74: The name tf.get_default_graph is deprecated. Please use tf.compat.v1.get_default_graph instead.\n",
      "\n",
      "WARNING:tensorflow:From /Users/ben/anaconda3/envs/cs229/lib/python3.6/site-packages/keras/backend/tensorflow_backend.py:517: The name tf.placeholder is deprecated. Please use tf.compat.v1.placeholder instead.\n",
      "\n",
      "WARNING:tensorflow:From /Users/ben/anaconda3/envs/cs229/lib/python3.6/site-packages/keras/backend/tensorflow_backend.py:4138: The name tf.random_uniform is deprecated. Please use tf.random.uniform instead.\n",
      "\n",
      "WARNING:tensorflow:From /Users/ben/anaconda3/envs/cs229/lib/python3.6/site-packages/keras/backend/tensorflow_backend.py:3976: The name tf.nn.max_pool is deprecated. Please use tf.nn.max_pool2d instead.\n",
      "\n",
      "WARNING:tensorflow:From /Users/ben/anaconda3/envs/cs229/lib/python3.6/site-packages/keras/optimizers.py:790: The name tf.train.Optimizer is deprecated. Please use tf.compat.v1.train.Optimizer instead.\n",
      "\n"
     ]
    }
   ],
   "source": [
    "# the dataset knows the number of features, e.g. 2\n",
    "n_features = X.shape[2]\n",
    "# define model\n",
    "model = Sequential()\n",
    "model.add(Conv1D(filters=64, kernel_size=n_features, activation='relu', input_shape=(n_steps, n_features)))\n",
    "model.add(MaxPooling1D(pool_size=2))\n",
    "model.add(Flatten())\n",
    "model.add(Dense(50, activation='relu'))\n",
    "model.add(Dense(1))\n",
    "model.compile(optimizer='adam', loss='mse')"
   ]
  },
  {
   "cell_type": "code",
   "execution_count": null,
   "metadata": {},
   "outputs": [
    {
     "name": "stdout",
     "output_type": "stream",
     "text": [
      "WARNING:tensorflow:From /Users/ben/anaconda3/envs/cs229/lib/python3.6/site-packages/keras/backend/tensorflow_backend.py:986: The name tf.assign_add is deprecated. Please use tf.compat.v1.assign_add instead.\n",
      "\n",
      "WARNING:tensorflow:From /Users/ben/anaconda3/envs/cs229/lib/python3.6/site-packages/keras/backend/tensorflow_backend.py:973: The name tf.assign is deprecated. Please use tf.compat.v1.assign instead.\n",
      "\n",
      "Epoch 1/1\n"
     ]
    }
   ],
   "source": [
    "# fit model\n",
    "model.fit(X, Y, epochs=1, verbose=1)"
   ]
  },
  {
   "cell_type": "code",
   "execution_count": null,
   "metadata": {},
   "outputs": [
    {
     "name": "stdout",
     "output_type": "stream",
     "text": [
      "WARNING:tensorflow:From /Users/ben/anaconda3/envs/cs229/lib/python3.6/site-packages/keras/backend/tensorflow_backend.py:2741: The name tf.Session is deprecated. Please use tf.compat.v1.Session instead.\n",
      "\n",
      "WARNING:tensorflow:From /Users/ben/anaconda3/envs/cs229/lib/python3.6/site-packages/keras/backend/tensorflow_backend.py:174: The name tf.get_default_session is deprecated. Please use tf.compat.v1.get_default_session instead.\n",
      "\n"
     ]
    }
   ],
   "source": [
    "model.predict(X)"
   ]
  },
  {
   "cell_type": "code",
   "execution_count": null,
   "metadata": {},
   "outputs": [],
   "source": []
  }
 ],
 "metadata": {
  "kernelspec": {
   "display_name": "Python 3",
   "language": "python",
   "name": "python3"
  },
  "language_info": {
   "codemirror_mode": {
    "name": "ipython",
    "version": 3
   },
   "file_extension": ".py",
   "mimetype": "text/x-python",
   "name": "python",
   "nbconvert_exporter": "python",
   "pygments_lexer": "ipython3",
   "version": "3.6.6"
  }
 },
 "nbformat": 4,
 "nbformat_minor": 4
}
