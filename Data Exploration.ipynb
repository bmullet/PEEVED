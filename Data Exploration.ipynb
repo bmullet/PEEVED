{
 "cells": [
  {
   "cell_type": "code",
   "execution_count": 1,
   "metadata": {},
   "outputs": [],
   "source": [
    "import numpy as np\n",
    "from datautil import load_hypocenters\n",
    "from matplotlib import pyplot as plt\n",
    "from datautil import PuuOo\n",
    "%matplotlib inline"
   ]
  },
  {
   "cell_type": "code",
   "execution_count": 2,
   "metadata": {},
   "outputs": [],
   "source": [
    "csv_path = 'KilaueaHypocentersANSS.csv'"
   ]
  },
  {
   "cell_type": "code",
   "execution_count": 3,
   "metadata": {},
   "outputs": [],
   "source": [
    "time, lat, lon, depth, mag = load_hypocenters(csv_path)"
   ]
  },
  {
   "cell_type": "markdown",
   "metadata": {},
   "source": [
    "### Variables\n",
    "**time**\n",
    "    - size [neq x 6]\n",
    "    - 2nd dim is [year, month, day, hour, minute, sec]\n",
    "**lat**"
   ]
  },
  {
   "cell_type": "code",
   "execution_count": 4,
   "metadata": {},
   "outputs": [
    {
     "data": {
      "text/plain": [
       "array([2.019e+03, 1.000e+01, 4.000e+00, 1.000e+00, 5.200e+01, 3.400e+01])"
      ]
     },
     "execution_count": 4,
     "metadata": {},
     "output_type": "execute_result"
    }
   ],
   "source": [
    "time[0]"
   ]
  },
  {
   "cell_type": "code",
   "execution_count": 5,
   "metadata": {},
   "outputs": [
    {
     "data": {
      "image/png": "[encoded data removed]",
      "text/plain": [
       "<Figure size 360x360 with 1 Axes>"
      ]
     },
     "metadata": {
      "needs_background": "light"
     },
     "output_type": "display_data"
    }
   ],
   "source": [
    "plt.figure(figsize=(5,5))\n",
    "plt.scatter(lat, lon)\n",
    "plt.show()"
   ]
  },
  {
   "cell_type": "code",
   "execution_count": 6,
   "metadata": {},
   "outputs": [],
   "source": [
    "import datetime"
   ]
  },
  {
   "cell_type": "code",
   "execution_count": 7,
   "metadata": {},
   "outputs": [],
   "source": [
    "d = '6/26/86'\n",
    "d2 = '7/26/84'\n",
    "dt = datetime.datetime.strptime(d, '%m/%d/%y')\n",
    "dt2 = datetime.datetime.strptime(d2, '%m/%d/%y')"
   ]
  },
  {
   "cell_type": "code",
   "execution_count": 8,
   "metadata": {},
   "outputs": [
    {
     "data": {
      "text/plain": [
       "False"
      ]
     },
     "execution_count": 8,
     "metadata": {},
     "output_type": "execute_result"
    }
   ],
   "source": [
    "dt2 > dt"
   ]
  },
  {
   "cell_type": "code",
   "execution_count": 9,
   "metadata": {},
   "outputs": [],
   "source": [
    "p = PuuOo('PuuOo.csv')"
   ]
  },
  {
   "cell_type": "code",
   "execution_count": 10,
   "metadata": {},
   "outputs": [
    {
     "data": {
      "text/plain": [
       "array([174. , 290. , 100. ,  90. ,  73. ,  56. ,  24. ,  52. ,  64. ,\n",
       "        43. ,  35. ,  42. ,  19. ,  19. ,  32. ,  23. ,  60. ,  44. ,\n",
       "         9. ,   8. ,  15. ,  18. ,  20. ,  13.5,   5. ,  10. ,  14.5,\n",
       "        16. ,  21. ,  21.5,  17.5,   6. ,  14. ,   7. ,   9.5,  12. ,\n",
       "         8.5,  10. ,  13.5,  11.5,  13.1,  11.4,  11. ,  15.1,  10.9,\n",
       "        12.6])"
      ]
     },
     "execution_count": 10,
     "metadata": {},
     "output_type": "execute_result"
    }
   ],
   "source": [
    "p.length"
   ]
  },
  {
   "cell_type": "code",
   "execution_count": 11,
   "metadata": {},
   "outputs": [
    {
     "data": {
      "text/plain": [
       "datetime.datetime(1984, 7, 26, 0, 0)"
      ]
     },
     "execution_count": 11,
     "metadata": {},
     "output_type": "execute_result"
    }
   ],
   "source": [
    "dt2"
   ]
  },
  {
   "cell_type": "code",
   "execution_count": 13,
   "metadata": {},
   "outputs": [
    {
     "name": "stdout",
     "output_type": "stream",
     "text": [
      "> /Users/bmullet/Classes/cs229/PEEVED/datautil.py(113)was_erupting()\n",
      "-> event = max([i for i in self.dates if time > i])\n",
      "(Pdb) n\n",
      "> /Users/bmullet/Classes/cs229/PEEVED/datautil.py(114)was_erupting()\n",
      "-> idx = self.dates.index(event)\n",
      "(Pdb) print(event)\n",
      "1984-07-08 00:00:00\n",
      "(Pdb) n\n",
      "> /Users/bmullet/Classes/cs229/PEEVED/datautil.py(115)was_erupting()\n",
      "-> length = self.length[idx]\n",
      "(Pdb) print(idx)\n",
      "20\n",
      "(Pdb) print(self.length.shape)\n",
      "(46,)\n",
      "(Pdb) n\n",
      "> /Users/bmullet/Classes/cs229/PEEVED/datautil.py(117)was_erupting()\n",
      "-> time_diff = time - event\n",
      "(Pdb) length\n",
      "15.0\n",
      "(Pdb) n\n",
      "> /Users/bmullet/Classes/cs229/PEEVED/datautil.py(119)was_erupting()\n",
      "-> timediff_hours = time_diff.days*24 + time_diff.seconds/3600\n",
      "(Pdb) time_diff\n",
      "datetime.timedelta(18)\n",
      "(Pdb) n\n",
      "> /Users/bmullet/Classes/cs229/PEEVED/datautil.py(121)was_erupting()\n",
      "-> return timediff_hours < length\n",
      "(Pdb) timediff_hours\n",
      "432.0\n",
      "(Pdb) time_diff.seconds\n",
      "0\n",
      "(Pdb) n\n",
      "--Return--\n",
      "> /Users/bmullet/Classes/cs229/PEEVED/datautil.py(121)was_erupting()->False\n",
      "-> return timediff_hours < length\n",
      "(Pdb) c\n"
     ]
    },
    {
     "data": {
      "text/plain": [
       "False"
      ]
     },
     "execution_count": 13,
     "metadata": {},
     "output_type": "execute_result"
    }
   ],
   "source": [
    "p.was_erupting(dt2)"
   ]
  },
  {
   "cell_type": "code",
   "execution_count": 22,
   "metadata": {},
   "outputs": [],
   "source": [
    "h = max([i for i in dates if dt2 > i])"
   ]
  },
  {
   "cell_type": "code",
   "execution_count": 24,
   "metadata": {},
   "outputs": [
    {
     "data": {
      "text/plain": [
       "datetime.timedelta(18)"
      ]
     },
     "execution_count": 24,
     "metadata": {},
     "output_type": "execute_result"
    }
   ],
   "source": [
    "dt2-h"
   ]
  },
  {
   "cell_type": "code",
   "execution_count": 25,
   "metadata": {},
   "outputs": [
    {
     "data": {
      "text/plain": [
       "datetime.datetime(1984, 7, 26, 0, 0)"
      ]
     },
     "execution_count": 25,
     "metadata": {},
     "output_type": "execute_result"
    }
   ],
   "source": [
    "dt2"
   ]
  },
  {
   "cell_type": "code",
   "execution_count": 26,
   "metadata": {},
   "outputs": [
    {
     "data": {
      "text/plain": [
       "datetime.datetime(1984, 7, 8, 0, 0)"
      ]
     },
     "execution_count": 26,
     "metadata": {},
     "output_type": "execute_result"
    }
   ],
   "source": [
    "h"
   ]
  },
  {
   "cell_type": "code",
   "execution_count": null,
   "metadata": {},
   "outputs": [],
   "source": []
  }
 ],
 "metadata": {
  "kernelspec": {
   "display_name": "Python 3",
   "language": "python",
   "name": "python3"
  },
  "language_info": {
   "codemirror_mode": {
    "name": "ipython",
    "version": 3
   },
   "file_extension": ".py",
   "mimetype": "text/x-python",
   "name": "python",
   "nbconvert_exporter": "python",
   "pygments_lexer": "ipython3",
   "version": "3.6.6"
  }
 },
 "nbformat": 4,
 "nbformat_minor": 2
}
