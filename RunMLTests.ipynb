{
 "cells": [
  {
   "cell_type": "code",
   "execution_count": 1,
   "metadata": {},
   "outputs": [],
   "source": [
    "import numpy as np\n",
    "from util import load_hypocenters, PuuOo, load_puuoo_eqs, prune_data, GetTimeToEruption, GetTimeSinceEruption, GetEQRates\n",
    "from matplotlib import pyplot as plt\n",
    "import datetime\n",
    "from sklearn import ensemble as ml_models\n",
    "\n",
    "%matplotlib inline"
   ]
  },
  {
   "cell_type": "code",
   "execution_count": 5,
   "metadata": {},
   "outputs": [
    {
     "data": {
      "text/plain": [
       "173566800.0"
      ]
     },
     "execution_count": 5,
     "metadata": {},
     "output_type": "execute_result"
    }
   ],
   "source": [
    "5.5*365.25*24*60*60\n"
   ]
  },
  {
   "cell_type": "markdown",
   "metadata": {},
   "source": [
    "# import data"
   ]
  },
  {
   "cell_type": "code",
   "execution_count": 8,
   "metadata": {},
   "outputs": [],
   "source": [
    "eruption_csv_path = 'PuuOo.csv'\n",
    "eq_csv_path       = 'puuoo_earthquakes.csv' \n",
    "\n",
    "p = PuuOo(eruption_csv_path)\n",
    "time, lat, lon, depth, mag = load_puuoo_eqs(eq_csv_path)"
   ]
  },
  {
   "cell_type": "code",
   "execution_count": 30,
   "metadata": {},
   "outputs": [],
   "source": [
    "SecsToEruption = GetTimeToEruption(time, p)\n",
    "SecsSinceEruption = GetTimeSinceEruption(time, p)\n"
   ]
  },
  {
   "cell_type": "code",
   "execution_count": 6,
   "metadata": {},
   "outputs": [],
   "source": [
    "EQsLastDay, EQsLastWeek, EQsLastMonth = GetEQRates(time)"
   ]
  },
  {
   "cell_type": "code",
   "execution_count": 31,
   "metadata": {},
   "outputs": [
    {
     "name": "stdout",
     "output_type": "stream",
     "text": [
      "6485\n",
      "1986-12-28 19:04:48 True\n",
      "[8468331. 8469813. 8470244. 8472345. 8474310. 8486762. 8489716. 8501841.\n",
      " 8520735. 8523764.]\n",
      "0.0\n"
     ]
    }
   ],
   "source": [
    "print(len(time))\n",
    "print(time[-10],p.was_erupting(time[-10]))\n",
    "\n",
    "erupt = np.array([p.was_erupting(t) for t in time])\n",
    "\n",
    "print(SecsSinceEruption[:10])\n",
    "print(SecsToEruption[-1])"
   ]
  },
  {
   "cell_type": "markdown",
   "metadata": {},
   "source": [
    "## Prepare data for machine learning"
   ]
  },
  {
   "cell_type": "code",
   "execution_count": 28,
   "metadata": {},
   "outputs": [
    {
     "name": "stdout",
     "output_type": "stream",
     "text": [
      "0.19059367771781033\n"
     ]
    }
   ],
   "source": [
    "X = np.vstack((lat, lon, depth, mag, EQsLastDay, EQsLastWeek, EQsLastMonth)).T\n",
    "Y = np.array([1 if val==True else 0 for val in erupt])\n",
    "\n",
    "print(sum(Y)/len(Y))"
   ]
  },
  {
   "cell_type": "markdown",
   "metadata": {},
   "source": [
    "## Separate data into train and test set"
   ]
  },
  {
   "cell_type": "code",
   "execution_count": 21,
   "metadata": {},
   "outputs": [],
   "source": [
    "import random\n",
    "\n",
    "# Make additional array for erupting or not\n",
    "erupt = np.array([p.was_erupting(t) for t in time])\n",
    "random.seed(0)\n",
    "percent_train = 0.8\n",
    "\n",
    "# Get indices of eruption and non-eruption earthquakes so we can split both\n",
    "eruption_idx    = [i for i, e in enumerate(erupt) if e == True]\n",
    "no_eruption_idx = [i for i, e in enumerate(erupt) if e == False]\n",
    "num_train_eruptions = int(percent_train * len(eruption_idx))\n",
    "num_val_eruptions   = len(eruption_idx) - num_train_eruptions\n",
    "num_train_no_eruptions = int(percent_train * len(no_eruption_idx))\n",
    "num_val_no_eruptions   = len(no_eruption_idx) - num_train_eruptions\n",
    "train_idx = sorted(random.sample(eruption_idx, num_train_eruptions))\n",
    "val_idx   = sorted(list(set(eruption_idx) - set(train_idx)))\n",
    "train_idx += sorted(random.sample(no_eruption_idx, num_train_no_eruptions))\n",
    "val_idx   += sorted(list(set(no_eruption_idx) - set(train_idx)))\n",
    "\n",
    "# Shuffle for random feed into model during training\n",
    "random.shuffle(train_idx)\n",
    "random.shuffle(val_idx)\n",
    "x_train = X[train_idx,:]\n",
    "x_val   = X[val_idx,:]\n",
    "\n",
    "y_train = Y[train_idx]\n",
    "y_val   = Y[val_idx]\n"
   ]
  },
  {
   "cell_type": "code",
   "execution_count": 22,
   "metadata": {},
   "outputs": [
    {
     "name": "stdout",
     "output_type": "stream",
     "text": [
      "(5116, 7) (1281, 7)\n",
      "(5116,) (1281,)\n"
     ]
    }
   ],
   "source": [
    "print(x_train.shape, x_val.shape)\n",
    "print(y_train.shape, y_val.shape)"
   ]
  },
  {
   "cell_type": "markdown",
   "metadata": {},
   "source": [
    "## start machine learning!"
   ]
  },
  {
   "cell_type": "code",
   "execution_count": 23,
   "metadata": {},
   "outputs": [],
   "source": [
    "\n",
    "\n",
    "def get_accuracy(model, X, Y):\n",
    "    num_train = Y.shape[0]\n",
    "    pred     = model.predict(X)\n",
    "    accuracy = np.sum((pred==Y))/num_train\n",
    "    \n",
    "    return accuracy"
   ]
  },
  {
   "cell_type": "markdown",
   "metadata": {},
   "source": [
    "### Run a logistic regression"
   ]
  },
  {
   "cell_type": "code",
   "execution_count": 24,
   "metadata": {},
   "outputs": [
    {
     "name": "stdout",
     "output_type": "stream",
     "text": [
      "True\n"
     ]
    }
   ],
   "source": [
    "from sklearn.linear_model import LogisticRegression\n",
    "\n",
    "lr = LogisticRegression(random_state=0,solver='lbfgs').fit(x_train, y_train)\n",
    "yhat = lr.predict(x_val)\n",
    "\n",
    "print(np.all(yhat==0))\n"
   ]
  },
  {
   "cell_type": "markdown",
   "metadata": {},
   "source": [
    "### Run the random forest"
   ]
  },
  {
   "cell_type": "code",
   "execution_count": 25,
   "metadata": {},
   "outputs": [
    {
     "name": "stdout",
     "output_type": "stream",
     "text": [
      "False\n"
     ]
    }
   ],
   "source": [
    "rf = ml_models.RandomForestClassifier(n_estimators=10, max_depth=20)\n",
    "rf.fit(x_train, y_train)\n",
    "yhat = rf.predict(x_val)\n",
    "print(np.all(yhat==0))"
   ]
  },
  {
   "cell_type": "code",
   "execution_count": 26,
   "metadata": {},
   "outputs": [
    {
     "name": "stdout",
     "output_type": "stream",
     "text": [
      "Model accuracy:\n",
      "0.8743169398907104\n",
      "\n",
      "Naive model would get:\n",
      "0.8068803752931978\n",
      "\n",
      "Feature importances:\n",
      "[0.11121384 0.14568364 0.13558118 0.08944436 0.10667255 0.18378104\n",
      " 0.2276234 ]\n"
     ]
    }
   ],
   "source": [
    "naive = np.sum(1-y_train)/y_train.shape[0]\n",
    "print(\"Model accuracy:\")\n",
    "print(get_accuracy(rf, x_val, y_val))\n",
    "print(\"\\nNaive model would get:\")\n",
    "print(naive)\n",
    "print('\\nFeature importances:')\n",
    "print(rf.feature_importances_)"
   ]
  },
  {
   "cell_type": "markdown",
   "metadata": {},
   "source": [
    "### try k means"
   ]
  },
  {
   "cell_type": "code",
   "execution_count": 41,
   "metadata": {},
   "outputs": [
    {
     "name": "stdout",
     "output_type": "stream",
     "text": [
      "(4656, 7)\n",
      "(4656, 1)\n"
     ]
    },
    {
     "data": {
      "text/plain": [
       "KMeans(algorithm='auto', copy_x=True, init='k-means++', max_iter=300,\n",
       "       n_clusters=5, n_init=10, n_jobs=None, precompute_distances='auto',\n",
       "       random_state=None, tol=0.0001, verbose=0)"
      ]
     },
     "execution_count": 41,
     "metadata": {},
     "output_type": "execute_result"
    }
   ],
   "source": [
    "from sklearn.cluster import KMeans\n",
    "\n",
    "km = KMeans(init='k-means++', n_clusters=5, n_init=10)\n",
    "\n",
    "print(x_train.shape)\n",
    "print(y_train.reshape(x_train.shape[0],1).shape)\n",
    "\n",
    "xy_train = np.concatenate((x_train, y_train.reshape((x_train.shape[0],1))), axis=1)\n",
    "km.fit(xy_train)"
   ]
  },
  {
   "cell_type": "code",
   "execution_count": null,
   "metadata": {},
   "outputs": [],
   "source": []
  }
 ],
 "metadata": {
  "kernelspec": {
   "display_name": "Python 3",
   "language": "python",
   "name": "python3"
  },
  "language_info": {
   "codemirror_mode": {
    "name": "ipython",
    "version": 3
   },
   "file_extension": ".py",
   "mimetype": "text/x-python",
   "name": "python",
   "nbconvert_exporter": "python",
   "pygments_lexer": "ipython3",
   "version": "3.7.5"
  }
 },
 "nbformat": 4,
 "nbformat_minor": 2
}
